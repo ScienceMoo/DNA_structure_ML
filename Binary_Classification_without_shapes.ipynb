{
  "nbformat": 4,
  "nbformat_minor": 0,
  "metadata": {
    "colab": {
      "name": "Binary Classification without shapes.ipynb",
      "provenance": [],
      "collapsed_sections": [],
      "authorship_tag": "ABX9TyNHJs7iZCxp5kTUUsTOOwNS",
      "include_colab_link": true
    },
    "kernelspec": {
      "display_name": "Python 3",
      "name": "python3"
    }
  },
  "cells": [
    {
      "cell_type": "markdown",
      "metadata": {
        "id": "view-in-github",
        "colab_type": "text"
      },
      "source": [
        "<a href=\"https://colab.research.google.com/github/ScienceMoo/DNA_structure_ML/blob/main/Binary_Classification_without_shapes.ipynb\" target=\"_parent\"><img src=\"https://colab.research.google.com/assets/colab-badge.svg\" alt=\"Open In Colab\"/></a>"
      ]
    },
    {
      "cell_type": "markdown",
      "metadata": {
        "id": "HofLdovINaMp"
      },
      "source": [
        "# Read data"
      ]
    },
    {
      "cell_type": "code",
      "metadata": {
        "id": "_DimaV2WHnsb"
      },
      "source": [
        "import scipy.io\n",
        "import numpy as np\n",
        "from sklearn.model_selection import train_test_split\n",
        "from scipy.special import softmax\n",
        "import matplotlib.pyplot as plt\n",
        "%matplotlib inline\n",
        "from seaborn import heatmap\n",
        "\n",
        "from keras.models import Sequential\n",
        "from keras.layers import Conv1D, Dense, Flatten, Dropout\n",
        "from keras.activations import relu\n",
        "from keras.layers.pooling import MaxPooling1D\n",
        "from keras.optimizers import SGD"
      ],
      "execution_count": null,
      "outputs": []
    },
    {
      "cell_type": "code",
      "metadata": {
        "colab": {
          "base_uri": "https://localhost:8080/"
        },
        "id": "Cv46MuIgH2TR",
        "outputId": "b939e80e-1fa7-43be-bd74-5951aef6f44e"
      },
      "source": [
        "from google.colab import drive\n",
        "drive.mount('/content/drive')"
      ],
      "execution_count": null,
      "outputs": [
        {
          "output_type": "stream",
          "text": [
            "Drive already mounted at /content/drive; to attempt to forcibly remount, call drive.mount(\"/content/drive\", force_remount=True).\n"
          ],
          "name": "stdout"
        }
      ]
    },
    {
      "cell_type": "code",
      "metadata": {
        "colab": {
          "base_uri": "https://localhost:8080/"
        },
        "id": "1t1MMSQGICww",
        "outputId": "1fcece70-b42f-4ead-90b8-be90a490fab1"
      },
      "source": [
        "file_folder = \"/content/drive/MyDrive/Colab Notebooks\"\n",
        "file_name = \"CTCF_sequences.mat\"\n",
        "file_path = file_folder + \"/\" + file_name\n",
        "\n",
        "mat = scipy.io.loadmat(file_path, chars_as_strings=1, matlab_compatible=1)\n",
        "\n",
        "sequences = mat['sequences2']\n",
        "sequences = [word for word_array in sequences for word in word_array[0]]\n",
        "sequences = np.array(sequences)\n",
        "num_sample, seq_length = sequences.shape[0], sequences.shape[1]\n",
        "print(\"sequences.shape =\", sequences.shape)\n",
        "print(\"num_sample =\", num_sample)\n",
        "print(\"seq_length =\", seq_length)\n",
        "print(\"\")\n",
        "print(\"sequences =\", sequences)"
      ],
      "execution_count": null,
      "outputs": [
        {
          "output_type": "stream",
          "text": [
            "sequences.shape = (158004, 15)\n",
            "num_sample = 158004\n",
            "seq_length = 15\n",
            "\n",
            "sequences = [['A' 'A' 'C' ... 'G' 'G' 'C']\n",
            " ['G' 'C' 'G' ... 'G' 'C' 'A']\n",
            " ['G' 'T' 'G' ... 'G' 'G' 'C']\n",
            " ...\n",
            " ['G' 'C' 'A' ... 'G' 'G' 'G']\n",
            " ['C' 'T' 'G' ... 'G' 'G' 'G']\n",
            " ['G' 'C' 'G' ... 'G' 'G' 'C']]\n"
          ],
          "name": "stdout"
        }
      ]
    },
    {
      "cell_type": "code",
      "metadata": {
        "colab": {
          "base_uri": "https://localhost:8080/"
        },
        "id": "2E6Zb-wc4Qs-",
        "outputId": "3ea9884a-b214-4572-e60b-d4b76f4ff69b"
      },
      "source": [
        "file_folder = \"/content/drive/MyDrive/Colab Notebooks\"\n",
        "file_name = \"CTCF_PWM.mat\"\n",
        "file_path = file_folder + \"/\" + file_name\n",
        "\n",
        "mat = scipy.io.loadmat(file_path, chars_as_strings=1, matlab_compatible=1)\n",
        "\n",
        "freq = mat['pwm_matrix']\n",
        "freq = np.exp(freq)\n",
        "\n",
        "freq = freq + 0.001\n",
        "print(\"freq.shape =\", freq.shape)\n",
        "freq"
      ],
      "execution_count": null,
      "outputs": [
        {
          "output_type": "stream",
          "text": [
            "freq.shape = (4, 15)\n"
          ],
          "name": "stdout"
        },
        {
          "output_type": "execute_result",
          "data": {
            "text/plain": [
              "array([[0.056, 0.026, 0.07 , 0.044, 0.002, 0.264, 0.006, 0.002, 0.034,\n",
              "        0.268, 0.022, 0.082, 0.012, 0.028, 0.128],\n",
              "       [0.32 , 0.648, 0.044, 0.792, 0.996, 0.668, 0.62 , 1.   , 0.066,\n",
              "        0.092, 0.346, 0.196, 0.004, 0.068, 0.596],\n",
              "       [0.568, 0.026, 0.794, 0.064, 0.002, 0.048, 0.004, 0.004, 0.01 ,\n",
              "        0.566, 0.622, 0.046, 0.978, 0.842, 0.076],\n",
              "       [0.064, 0.308, 0.1  , 0.108, 0.008, 0.028, 0.378, 0.002, 0.898,\n",
              "        0.082, 0.018, 0.684, 0.014, 0.07 , 0.208]])"
            ]
          },
          "metadata": {
            "tags": []
          },
          "execution_count": 97
        }
      ]
    },
    {
      "cell_type": "code",
      "metadata": {
        "colab": {
          "base_uri": "https://localhost:8080/"
        },
        "id": "Xg6bFMi_pJjz",
        "outputId": "27b5e5eb-b932-4fa8-88fb-8192c8780158"
      },
      "source": [
        "inds = []\n",
        "for idx, sequence in enumerate(sequences):\n",
        "  if 'N' in sequence:\n",
        "    inds.append(idx)\n",
        "\n",
        "sequences = np.delete(sequences, inds, axis=0)\n",
        "print(\"sequences.shape =\", sequences.shape)\n",
        "y = np.delete(y, inds, axis=0)\n",
        "num_sample, seq_length = sequences.shape[0], sequences.shape[1]\n",
        "print(\"num_sample =\", num_sample)\n",
        "print(\"seq_length =\", seq_length)"
      ],
      "execution_count": null,
      "outputs": [
        {
          "output_type": "stream",
          "text": [
            "sequences.shape = (157999, 15)\n",
            "num_sample = 157999\n",
            "seq_length = 15\n"
          ],
          "name": "stdout"
        }
      ]
    },
    {
      "cell_type": "markdown",
      "metadata": {
        "id": "wPmRsaRaNemg"
      },
      "source": [
        "# Prepare data"
      ]
    },
    {
      "cell_type": "code",
      "metadata": {
        "colab": {
          "base_uri": "https://localhost:8080/"
        },
        "id": "6KD1wZvYvAb4",
        "outputId": "f72a3811-cd6d-4c2f-a122-e0a64f376b78"
      },
      "source": [
        "neg = np.array([np.random.choice(['A', 'C', 'G', 'T'], num_sample, p=freq[:,i]/sum(freq[:,i])) \n",
        "                for i in range(seq_length)]).transpose()\n",
        "[''.join(x) for x in neg[1:10,:]]"
      ],
      "execution_count": null,
      "outputs": [
        {
          "output_type": "execute_result",
          "data": {
            "text/plain": [
              "['GCACCCCCTCGAGAC',\n",
              " 'GCGACCCCTGGTGGT',\n",
              " 'CTGCCACCAGGGGGC',\n",
              " 'CCGCCCCCTTGTGAC',\n",
              " 'GTAGCCCCCGGTGGC',\n",
              " 'GTGCCACCTGCCGGC',\n",
              " 'CTGCCATCTGGCGGA',\n",
              " 'GCGTCATCTGGTGGC',\n",
              " 'GCGCCCTCTGATGCC']"
            ]
          },
          "metadata": {
            "tags": []
          },
          "execution_count": 98
        }
      ]
    },
    {
      "cell_type": "code",
      "metadata": {
        "colab": {
          "base_uri": "https://localhost:8080/"
        },
        "id": "BXFYY4ESODkS",
        "outputId": "c3c4a3bf-e783-445b-ce56-e8b6dedb477f"
      },
      "source": [
        "X = np.zeros(list(sequences.shape) + [4])\n",
        "neg_X = np.zeros(list(neg.shape) + [4])\n",
        "\n",
        "base_dict = {'A': 0, 'C': 1, 'G': 2, 'T': 3}\n",
        "\n",
        "#naive one-hot encoding\n",
        "for row in range(num_sample):\n",
        "    for col in range(seq_length):\n",
        "        X[row,col,base_dict[sequences[row,col]]] = 1\n",
        "        neg_X[row,col,base_dict[neg[row,col]]] = 1\n",
        "\n",
        "X = np.vstack((X, neg_X))\n",
        "y = np.concatenate((np.ones(num_sample), np.zeros(num_sample)))\n",
        "\n",
        "print('Training set shape: {}'.format(X.shape))\n",
        "print('Training set label shape: {}'.format(y.shape))\n",
        "print('\\nOne-hot encoding looks like:\\n {}'.format(X[0,0:10,:]))"
      ],
      "execution_count": null,
      "outputs": [
        {
          "output_type": "stream",
          "text": [
            "Training set shape: (315998, 15, 4)\n",
            "Training set label shape: (315998,)\n",
            "\n",
            "One-hot encoding looks like:\n",
            " [[1. 0. 0. 0.]\n",
            " [1. 0. 0. 0.]\n",
            " [0. 1. 0. 0.]\n",
            " [0. 1. 0. 0.]\n",
            " [0. 1. 0. 0.]\n",
            " [0. 1. 0. 0.]\n",
            " [0. 0. 0. 1.]\n",
            " [0. 1. 0. 0.]\n",
            " [0. 0. 0. 1.]\n",
            " [0. 0. 1. 0.]]\n"
          ],
          "name": "stdout"
        }
      ]
    },
    {
      "cell_type": "code",
      "metadata": {
        "id": "V1GVxiNiZjcp"
      },
      "source": [
        "X, X_test, y, y_test = train_test_split(X, y, test_size=0.15)"
      ],
      "execution_count": null,
      "outputs": []
    },
    {
      "cell_type": "markdown",
      "metadata": {
        "id": "Sd-yu8sAU1W4"
      },
      "source": [
        "# Deep Learning"
      ]
    },
    {
      "cell_type": "code",
      "metadata": {
        "colab": {
          "base_uri": "https://localhost:8080/"
        },
        "id": "fom2jwn0SIBn",
        "outputId": "46465aac-9557-486a-b47e-c8f9a2670b73"
      },
      "source": [
        "#here comes the deep learning part\n",
        "\n",
        "model = Sequential()\n",
        "model.add(Conv1D(1, 15, padding='same', activation='relu'))\n",
        "model.add(Conv1D(1, 15, padding='same', activation='relu'))\n",
        "\n",
        "#sanity check for dimensions\n",
        "print('Shape of the output of first layer: {}'.format(model.predict_on_batch(X[0:32,:,:]).shape))"
      ],
      "execution_count": null,
      "outputs": [
        {
          "output_type": "stream",
          "text": [
            "WARNING:tensorflow:9 out of the last 1490 calls to <function Model.make_predict_function.<locals>.predict_function at 0x7f7a65b43ea0> triggered tf.function retracing. Tracing is expensive and the excessive number of tracings could be due to (1) creating @tf.function repeatedly in a loop, (2) passing tensors with different shapes, (3) passing Python objects instead of tensors. For (1), please define your @tf.function outside of the loop. For (2), @tf.function has experimental_relax_shapes=True option that relaxes argument shapes that can avoid unnecessary retracing. For (3), please refer to https://www.tensorflow.org/tutorials/customization/performance#python_or_tensor_args and https://www.tensorflow.org/api_docs/python/tf/function for  more details.\n",
            "Shape of the output of first layer: (32, 15, 1)\n"
          ],
          "name": "stdout"
        }
      ]
    },
    {
      "cell_type": "code",
      "metadata": {
        "colab": {
          "background_save": true,
          "base_uri": "https://localhost:8080/"
        },
        "id": "Lh94giAOpJew",
        "outputId": "82e3a592-111a-4d63-b9f7-ffdf04c1cd13"
      },
      "source": [
        "# model.add(MaxPooling1D(pool_length=4))\n",
        "model.add(Dropout(0))\n",
        "model.add(Flatten())\n",
        "model.add(Dense(1, activation='sigmoid'))\n",
        "\n",
        "sgd = SGD(lr=0.01, decay=1e-6, momentum=0.9, nesterov=True)\n",
        "model.compile(optimizer=sgd,\n",
        "              loss='binary_crossentropy',\n",
        "              metrics=['accuracy'])\n",
        "\n",
        "hist = model.fit(X, y, validation_split=0.3, epochs=12)  # starts training"
      ],
      "execution_count": null,
      "outputs": [
        {
          "output_type": "stream",
          "text": [
            "Epoch 1/12\n",
            "5876/5876 [==============================] - 15s 3ms/step - loss: 0.5579 - accuracy: 0.7159 - val_loss: 0.5587 - val_accuracy: 0.7226\n",
            "Epoch 2/12\n",
            "5876/5876 [==============================] - 15s 3ms/step - loss: 0.5374 - accuracy: 0.7402 - val_loss: 0.5333 - val_accuracy: 0.7422\n",
            "Epoch 3/12\n",
            "5876/5876 [==============================] - 14s 2ms/step - loss: 0.5354 - accuracy: 0.7419 - val_loss: 0.5341 - val_accuracy: 0.7415\n",
            "Epoch 4/12\n",
            "5876/5876 [==============================] - 14s 2ms/step - loss: 0.5351 - accuracy: 0.7424 - val_loss: 0.5335 - val_accuracy: 0.7416\n",
            "Epoch 5/12\n",
            "5876/5876 [==============================] - 15s 3ms/step - loss: 0.5350 - accuracy: 0.7428 - val_loss: 0.5373 - val_accuracy: 0.7398\n",
            "Epoch 6/12\n",
            "5876/5876 [==============================] - 15s 3ms/step - loss: 0.5347 - accuracy: 0.7433 - val_loss: 0.5367 - val_accuracy: 0.7382\n",
            "Epoch 7/12\n",
            "5876/5876 [==============================] - 15s 3ms/step - loss: 0.5345 - accuracy: 0.7434 - val_loss: 0.5397 - val_accuracy: 0.7385\n",
            "Epoch 8/12\n",
            "5876/5876 [==============================] - 14s 2ms/step - loss: 0.5345 - accuracy: 0.7441 - val_loss: 0.5320 - val_accuracy: 0.7436\n",
            "Epoch 9/12\n",
            "5876/5876 [==============================] - 15s 3ms/step - loss: 0.5341 - accuracy: 0.7447 - val_loss: 0.5330 - val_accuracy: 0.7431\n",
            "Epoch 10/12\n",
            "5876/5876 [==============================] - 15s 2ms/step - loss: 0.5338 - accuracy: 0.7438 - val_loss: 0.5391 - val_accuracy: 0.7377\n",
            "Epoch 11/12\n",
            "5876/5876 [==============================] - 15s 3ms/step - loss: 0.5335 - accuracy: 0.7452 - val_loss: 0.5345 - val_accuracy: 0.7429\n",
            "Epoch 12/12\n",
            "5876/5876 [==============================] - 15s 3ms/step - loss: 0.5335 - accuracy: 0.7448 - val_loss: 0.5327 - val_accuracy: 0.7445\n"
          ],
          "name": "stdout"
        }
      ]
    },
    {
      "cell_type": "code",
      "metadata": {
        "id": "OaPxlMEYrujI"
      },
      "source": [
        "def my_softmax(row):\n",
        "  if min(row) != 0:\n",
        "    row = row - min(row)\n",
        "  return row / sum(row)"
      ],
      "execution_count": null,
      "outputs": []
    },
    {
      "cell_type": "code",
      "metadata": {
        "colab": {
          "base_uri": "https://localhost:8080/",
          "height": 556
        },
        "id": "sRLQoOuvdfTX",
        "outputId": "f387fe30-f3c9-411e-d711-e67780476488"
      },
      "source": [
        "#have a look at the filter\n",
        "\n",
        "convlayer = model.layers[0]\n",
        "weights = convlayer.get_weights()[0].squeeze()\n",
        "print('Convolution parameter shape: {}'.format(weights.shape))\n",
        "weights = 1 / weights\n",
        "weights = np.apply_along_axis(my_softmax, 1, weights)\n",
        "weights = weights * 100\n",
        "weights = weights.astype(int)\n",
        "print(weights)\n",
        "heatmap(weights)"
      ],
      "execution_count": null,
      "outputs": [
        {
          "output_type": "stream",
          "text": [
            "Convolution parameter shape: (15, 4)\n",
            "[[61 18  0 20]\n",
            " [25  0 17 57]\n",
            " [40  0 39 19]\n",
            " [22  0 37 40]\n",
            " [19 26 53  0]\n",
            " [ 0 42 26 31]\n",
            " [ 0 10 36 52]\n",
            " [12  0 73 13]\n",
            " [40 26 33  0]\n",
            " [27 25 46  0]\n",
            " [31  0 40 27]\n",
            " [26  0 23 50]\n",
            " [ 8  0 74 16]\n",
            " [92  2  0  5]\n",
            " [ 0 33 65  1]]\n"
          ],
          "name": "stdout"
        },
        {
          "output_type": "execute_result",
          "data": {
            "text/plain": [
              "<matplotlib.axes._subplots.AxesSubplot at 0x7f7a67b67470>"
            ]
          },
          "metadata": {
            "tags": []
          },
          "execution_count": 94
        },
        {
          "output_type": "display_data",
          "data": {
            "image/png": "[encoded data removed]",
            "text/plain": [
              "<Figure size 432x288 with 2 Axes>"
            ]
          },
          "metadata": {
            "tags": []
          }
        }
      ]
    },
    {
      "cell_type": "code",
      "metadata": {
        "colab": {
          "base_uri": "https://localhost:8080/",
          "height": 35
        },
        "id": "hU_TM7z-dl3d",
        "outputId": "985215ef-abcb-4bb4-9206-b11ba347fabf"
      },
      "source": [
        "# predict highest strength sequence\n",
        "num2seq = ['A','C','G','T']\n",
        "weights = softmax(weights, axis=1)\n",
        "''.join([num2seq[np.argmax(weights[i,:])] for i in range(weights.shape[0])])  "
      ],
      "execution_count": null,
      "outputs": [
        {
          "output_type": "execute_result",
          "data": {
            "application/vnd.google.colaboratory.intrinsic+json": {
              "type": "string"
            },
            "text/plain": [
              "'ATATGCTGAGGTGAG'"
            ]
          },
          "metadata": {
            "tags": []
          },
          "execution_count": 95
        }
      ]
    },
    {
      "cell_type": "code",
      "metadata": {
        "colab": {
          "base_uri": "https://localhost:8080/",
          "height": 35
        },
        "id": "XlMnP7jpd9oX",
        "outputId": "d0dd3d6c-12e1-4009-f464-94ba8ac7c0d6"
      },
      "source": [
        "# predict highest strength sequence\n",
        "num2seq = ['A','C','G','T']\n",
        "\n",
        "''.join([num2seq[np.argmin(weights[i,:])] for i in range(weights.shape[0])])"
      ],
      "execution_count": null,
      "outputs": [
        {
          "output_type": "execute_result",
          "data": {
            "application/vnd.google.colaboratory.intrinsic+json": {
              "type": "string"
            },
            "text/plain": [
              "'AGCTATATAGTGAAG'"
            ]
          },
          "metadata": {
            "tags": []
          },
          "execution_count": 42
        }
      ]
    },
    {
      "cell_type": "code",
      "metadata": {
        "colab": {
          "base_uri": "https://localhost:8080/",
          "height": 567
        },
        "id": "dDR5bsPDZ4gW",
        "outputId": "9ae83e64-e3a8-4059-fed7-f708e7f6fc0b"
      },
      "source": [
        "pred = model.predict(X_test)\n",
        "# print(\"pred =\", pred[:20])\n",
        "# print(\"y_test =\", y_test[:20])\n",
        "\n",
        "fig=plt.figure(figsize=(30, 10))\n",
        "\n",
        "plt.plot(np.arange(1, 101), pred[:100], '.', label=\"Prediction\")\n",
        "plt.plot(np.arange(1, 101), y_test[:100], '.', label=\"Actual\")\n",
        "plt.xlabel('Sample')\n",
        "\n",
        "plt.legend(loc='upper left')\n",
        "\n",
        "plt.show()"
      ],
      "execution_count": null,
      "outputs": [
        {
          "output_type": "display_data",
          "data": {
            "image/png": "[encoded data removed]",
            "text/plain": [
              "<Figure size 2160x720 with 1 Axes>"
            ]
          },
          "metadata": {
            "tags": []
          }
        }
      ]
    }
  ]
}