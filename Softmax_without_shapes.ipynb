{
  "nbformat": 4,
  "nbformat_minor": 0,
  "metadata": {
    "colab": {
      "name": "Softmax without shapes.ipynb",
      "provenance": [],
      "collapsed_sections": [
        "x8p8s6VV9Uql"
      ],
      "toc_visible": true,
      "authorship_tag": "ABX9TyPJ1+X5V/jKHD+U+UANXEXN",
      "include_colab_link": true
    },
    "kernelspec": {
      "display_name": "Python 3",
      "name": "python3"
    }
  },
  "cells": [
    {
      "cell_type": "markdown",
      "metadata": {
        "id": "view-in-github",
        "colab_type": "text"
      },
      "source": [
        "<a href=\"https://colab.research.google.com/github/ScienceMoo/DNA_structure_ML/blob/main/Softmax_without_shapes.ipynb\" target=\"_parent\"><img src=\"https://colab.research.google.com/assets/colab-badge.svg\" alt=\"Open In Colab\"/></a>"
      ]
    },
    {
      "cell_type": "markdown",
      "metadata": {
        "id": "x8p8s6VV9Uql"
      },
      "source": [
        "# Setup"
      ]
    },
    {
      "cell_type": "code",
      "metadata": {
        "id": "_DimaV2WHnsb"
      },
      "source": [
        "import scipy.io\n",
        "import numpy as np\n",
        "from sklearn.model_selection import train_test_split\n",
        "from scipy.special import softmax\n",
        "import matplotlib.pyplot as plt\n",
        "%matplotlib inline\n",
        "\n",
        "import math\n",
        "import seaborn; seaborn.set() # Plot styling\n",
        "from seaborn import heatmap"
      ],
      "execution_count": 1,
      "outputs": []
    },
    {
      "cell_type": "code",
      "metadata": {
        "colab": {
          "base_uri": "https://localhost:8080/"
        },
        "id": "Cv46MuIgH2TR",
        "outputId": "2f1b3ba3-2fb6-4d59-a1b9-13b5d9c1283d"
      },
      "source": [
        "from google.colab import drive\n",
        "drive.mount('/content/drive')"
      ],
      "execution_count": 2,
      "outputs": [
        {
          "output_type": "stream",
          "text": [
            "Mounted at /content/drive\n"
          ],
          "name": "stdout"
        }
      ]
    },
    {
      "cell_type": "code",
      "metadata": {
        "id": "okt5Ecn69WoU"
      },
      "source": [
        "# actual PWM (you need this later just to compare)\n",
        "actualPWM = np.array([[0.0540, 0.3180, 0.5660, 0.0620],\n",
        "    [0.0240, 0.6460, 0.0240, 0.3060],\n",
        "    [0.0680, 0.0420, 0.7920, 0.0980],\n",
        "    [0.0420, 0.7900, 0.0620, 0.1060],\n",
        "    [     0, 0.9940,      0, 0.0060],\n",
        "    [0.2620, 0.6660, 0.0460, 0.0260],\n",
        "    [0.0040, 0.6180, 0.0020, 0.3760],\n",
        "    [     0, 0.9980, 0.0020,      0],\n",
        "    [0.0320, 0.0640, 0.0080, 0.8960],\n",
        "    [0.2660, 0.0900, 0.5640, 0.0800],\n",
        "    [0.0200, 0.3440, 0.6200, 0.0160],\n",
        "    [0.0800, 0.1940, 0.0440, 0.6820],\n",
        "    [0.0100, 0.0020, 0.9760, 0.0120],\n",
        "    [0.0260, 0.0660, 0.8400, 0.0680],\n",
        "    [0.1260, 0.5940, 0.0740, 0.2060]])"
      ],
      "execution_count": 3,
      "outputs": []
    },
    {
      "cell_type": "markdown",
      "metadata": {
        "id": "HofLdovINaMp"
      },
      "source": [
        "# Read data"
      ]
    },
    {
      "cell_type": "code",
      "metadata": {
        "colab": {
          "base_uri": "https://localhost:8080/"
        },
        "id": "1t1MMSQGICww",
        "outputId": "06b33927-49c9-49ea-f822-a741a14b4072"
      },
      "source": [
        "file_folder = \"/content/drive/MyDrive/Colab Notebooks\"\n",
        "file_name = \"CTCF_sequences.mat\"\n",
        "file_path = file_folder + \"/\" + file_name\n",
        "\n",
        "mat = scipy.io.loadmat(file_path, chars_as_strings=1, matlab_compatible=1)\n",
        "\n",
        "sequences = mat['sequences']\n",
        "sequences = [word[2:33] for word_array in sequences for word in word_array[0]]\n",
        "sequences = np.array(sequences)\n",
        "num_sample, seq_length = sequences.shape[0], sequences.shape[1]\n",
        "print(\"sequences.shape =\", sequences.shape)\n",
        "print(\"num_sample =\", num_sample)\n",
        "print(\"seq_length =\", seq_length)\n",
        "print(\"\")\n",
        "print(\"sequences =\", sequences[:5])\n",
        "\n",
        "### Load false binding sequences\n",
        "file_folder = \"/content/drive/MyDrive/Colab Notebooks\"\n",
        "file_name = \"false_sequences.mat\"\n",
        "file_path = file_folder + \"/\" + file_name\n",
        "mat = scipy.io.loadmat(file_path, chars_as_strings=1, matlab_compatible=1)\n",
        "false_sequences = mat['false_sequences']\n",
        "\n",
        "false_sequences = [word[2:33] for word_array in false_sequences for word in word_array[0]]\n",
        "false_sequences = np.array(false_sequences)\n",
        "\n",
        "num_false_seq = false_sequences.shape[0]\n",
        "print(\"false_sequences.shape =\", false_sequences.shape)\n",
        "print(\"num_false_seq =\", num_false_seq)\n",
        "print(\"seq_length =\", seq_length)\n",
        "print(\"\")\n",
        "print(\"false_sequences =\", false_sequences[:5])"
      ],
      "execution_count": 75,
      "outputs": [
        {
          "output_type": "stream",
          "text": [
            "sequences.shape = (158004, 31)\n",
            "num_sample = 158004\n",
            "seq_length = 31\n",
            "\n",
            "sequences = [['T' 'G' 'G' 'C' 'A' 'C' 'A' 'A' 'A' 'A' 'C' 'C' 'C' 'C' 'T' 'C' 'T' 'G'\n",
            "  'C' 'T' 'G' 'G' 'C' 'T' 'C' 'G' 'T' 'G' 'T' 'G' 'T']\n",
            " ['T' 'C' 'C' 'T' 'T' 'G' 'A' 'A' 'G' 'C' 'G' 'C' 'C' 'C' 'C' 'C' 'A' 'A'\n",
            "  'G' 'G' 'G' 'C' 'A' 'T' 'C' 'T' 'T' 'C' 'T' 'C' 'A']\n",
            " ['T' 'T' 'C' 'T' 'C' 'T' 'G' 'T' 'G' 'T' 'G' 'G' 'C' 'A' 'C' 'C' 'A' 'G'\n",
            "  'G' 'T' 'G' 'G' 'C' 'A' 'G' 'C' 'A' 'G' 'A' 'G' 'G']\n",
            " ['G' 'A' 'C' 'C' 'T' 'C' 'T' 'G' 'C' 'T' 'G' 'C' 'C' 'A' 'C' 'C' 'T' 'G'\n",
            "  'G' 'T' 'G' 'C' 'C' 'A' 'C' 'A' 'C' 'A' 'G' 'A' 'G']\n",
            " ['T' 'T' 'G' 'C' 'C' 'T' 'T' 'G' 'C' 'T' 'G' 'A' 'C' 'C' 'T' 'C' 'T' 'G'\n",
            "  'C' 'T' 'G' 'C' 'C' 'A' 'C' 'C' 'T' 'G' 'G' 'T' 'G']]\n",
            "false_sequences.shape = (160135, 31)\n",
            "num_false_seq = 160135\n",
            "seq_length = 31\n",
            "\n",
            "false_sequences = [['T' 'C' 'C' 'T' 'T' 'G' 'A' 'A' 'G' 'C' 'A' 'C' 'C' 'C' 'C' 'C' 'A' 'A'\n",
            "  'G' 'G' 'G' 'C' 'A' 'T' 'C' 'T' 'T' 'C' 'T' 'C' 'A']\n",
            " ['T' 'C' 'C' 'T' 'T' 'G' 'A' 'A' 'G' 'C' 'G' 'C' 'C' 'C' 'C' 'C' 'A' 'A'\n",
            "  'G' 'G' 'G' 'C' 'A' 'T' 'C' 'T' 'T' 'C' 'T' 'C' 'A']\n",
            " ['G' 'C' 'C' 'C' 'C' 'C' 'A' 'C' 'C' 'C' 'C' 'G' 'C' 'A' 'T' 'C' 'C' 'C'\n",
            "  'C' 'G' 'G' 'G' 'C' 'T' 'C' 'G' 'G' 'G' 'T' 'T' 'T']\n",
            " ['G' 'G' 'A' 'C' 'G' 'T' 'A' 'G' 'C' 'T' 'G' 'C' 'C' 'C' 'C' 'C' 'A' 'C'\n",
            "  'C' 'C' 'C' 'G' 'C' 'A' 'T' 'C' 'C' 'C' 'C' 'G' 'G']\n",
            " ['T' 'C' 'A' 'G' 'C' 'T' 'A' 'C' 'C' 'C' 'T' 'T' 'C' 'T' 'T' 'C' 'A' 'G'\n",
            "  'C' 'C' 'G' 'G' 'C' 'A' 'A' 'C' 'A' 'C' 'A' 'C' 'A']]\n"
          ],
          "name": "stdout"
        }
      ]
    },
    {
      "cell_type": "code",
      "metadata": {
        "colab": {
          "base_uri": "https://localhost:8080/"
        },
        "id": "Xg6bFMi_pJjz",
        "outputId": "a8f1b016-2ec0-41f5-a5ae-b92bd19253e3"
      },
      "source": [
        "# Clean the data\n",
        "inds = []\n",
        "for idx, sequence in enumerate(sequences):\n",
        "  if 'N' in sequence:\n",
        "    inds.append(idx)\n",
        "\n",
        "sequences = np.delete(sequences, inds, axis=0)\n",
        "\n",
        "num_sample, seq_length = sequences.shape[0], sequences.shape[1]\n",
        "\n",
        "print(\"num_sample =\", num_sample)\n",
        "print(\"seq_length =\", seq_length)\n",
        "\n",
        "print(\"sequences.shape =\", sequences.shape)\n",
        "num_sample, seq_length = sequences.shape[0], sequences.shape[1]\n",
        "num_sample, seq_length = sequences.shape[0], sequences.shape[1]\n",
        "print(\"num_sample =\", num_sample)\n",
        "print(\"seq_length =\", seq_length)\n",
        "\n",
        "inds = []\n",
        "for idx, sequence in enumerate(false_sequences):\n",
        "  if 'N' in sequence:\n",
        "    inds.append(idx)\n",
        "\n",
        "false_sequences = np.delete(false_sequences, inds, axis=0)\n",
        "false_sequences = false_sequences[0:157999]\n",
        "num_false_seq = false_sequences.shape[0]\n",
        "print(\"num_false_seq =\", num_false_seq)"
      ],
      "execution_count": 76,
      "outputs": [
        {
          "output_type": "stream",
          "text": [
            "num_sample = 158004\n",
            "seq_length = 31\n",
            "sequences.shape = (158004, 31)\n",
            "num_sample = 158004\n",
            "seq_length = 31\n",
            "num_false_seq = 157999\n"
          ],
          "name": "stdout"
        }
      ]
    },
    {
      "cell_type": "markdown",
      "metadata": {
        "id": "wPmRsaRaNemg"
      },
      "source": [
        "# Prepare data"
      ]
    },
    {
      "cell_type": "code",
      "metadata": {
        "colab": {
          "base_uri": "https://localhost:8080/"
        },
        "id": "BXFYY4ESODkS",
        "outputId": "5a69a70f-aa56-48f5-a24e-3cd1aa579cb6"
      },
      "source": [
        "# one-hot encoding\n",
        "X = np.zeros(list(sequences.shape) + [4])\n",
        "false_X = np.zeros(list(false_sequences.shape) + [4])\n",
        "\n",
        "base_dict = {'A': 0, 'C': 1, 'G': 2, 'T': 3}\n",
        "\n",
        "for row in range(num_sample):\n",
        "    for col in range(seq_length):\n",
        "        X[row,col,base_dict[sequences[row,col]]] = 1\n",
        "\n",
        "for row in range(num_false_seq):\n",
        "    for col in range(seq_length):\n",
        "        false_X[row,col,base_dict[false_sequences[row,col]]] = 1\n",
        "\n",
        "X = np.vstack((X, false_X))\n",
        "y = np.vstack((np.transpose(np.repeat([[0], [1]], num_sample, axis=1)), np.transpose(np.repeat([[1], [0]], num_false_seq, axis=1))))\n",
        "print('Training set shape: {}'.format(X.shape))\n",
        "print('Training set label shape: {}'.format(y.shape))\n",
        "print('\\nOne-hot encoding looks like:\\n {}'.format(X[0,0:10,:]))\n",
        "\n",
        "print('\\nTarget looks like:\\n {}'.format(y[0]))"
      ],
      "execution_count": 77,
      "outputs": [
        {
          "output_type": "stream",
          "text": [
            "Training set shape: (316003, 31, 4)\n",
            "Training set label shape: (316003, 2)\n",
            "\n",
            "One-hot encoding looks like:\n",
            " [[0. 0. 0. 1.]\n",
            " [0. 0. 1. 0.]\n",
            " [0. 0. 1. 0.]\n",
            " [0. 1. 0. 0.]\n",
            " [1. 0. 0. 0.]\n",
            " [0. 1. 0. 0.]\n",
            " [1. 0. 0. 0.]\n",
            " [1. 0. 0. 0.]\n",
            " [1. 0. 0. 0.]\n",
            " [1. 0. 0. 0.]]\n",
            "\n",
            "Target looks like:\n",
            " [0 1]\n"
          ],
          "name": "stdout"
        }
      ]
    },
    {
      "cell_type": "code",
      "metadata": {
        "id": "V1GVxiNiZjcp"
      },
      "source": [
        "X, X_test, y, y_test = train_test_split(X, y, test_size=0.05)"
      ],
      "execution_count": 78,
      "outputs": []
    },
    {
      "cell_type": "markdown",
      "metadata": {
        "id": "Sd-yu8sAU1W4"
      },
      "source": [
        "# Deep Learning"
      ]
    },
    {
      "cell_type": "code",
      "metadata": {
        "colab": {
          "base_uri": "https://localhost:8080/"
        },
        "id": "QXQoJXrySc6q",
        "outputId": "0447911d-1b99-4223-d53f-08c56292e0c3"
      },
      "source": [
        "from keras.models import Sequential\n",
        "from keras.layers import Conv1D, Dense, Flatten, Dropout\n",
        "from keras.activations import relu\n",
        "from keras.layers.pooling import MaxPooling1D\n",
        "from keras.optimizers import SGD\n",
        "import keras\n",
        "\n",
        "# define the model\n",
        "model = Sequential()\n",
        "model.add(Conv1D(128, 25, padding='same', activation='relu', input_shape=(seq_length, 4)))\n",
        "# model.add(Conv1D(32, 15, padding='same', activation='relu'))\n",
        "#sanity check for dimensions\n",
        "print('Shape of the output of first layer: {}'.format(model.predict_on_batch(X[0:32,:,:]).shape))\n",
        "# model.add(MaxPooling1D(2))\n",
        "\n",
        "# model.add(Dropout(0.1))\n",
        "model.add(Flatten())\n",
        "model.add(Dense(2, activation='softmax'))\n",
        "\n",
        "# sgd = SGD(lr=0.0001, decay=1e-8, momentum=0.9, nesterov=True)\n",
        "sgd = SGD(lr=0.0003, decay=1e-6, momentum=0.9, nesterov=True)\n",
        "model.compile(optimizer=sgd,\n",
        "              loss='categorical_crossentropy',\n",
        "              metrics=['accuracy'])\n",
        "\n",
        "hist = model.fit(X, y, validation_split=0.2, epochs=80, batch_size=100)  # starts training\n",
        "model.evaluate(X_test, y_test)\n",
        "\n",
        "model.summary()"
      ],
      "execution_count": 84,
      "outputs": [
        {
          "output_type": "stream",
          "text": [
            "Shape of the output of first layer: (32, 31, 128)\n",
            "Epoch 1/80\n",
            "2402/2402 [==============================] - 25s 10ms/step - loss: 0.5501 - accuracy: 0.7604 - val_loss: 0.4397 - val_accuracy: 0.8330\n",
            "Epoch 2/80\n",
            "2402/2402 [==============================] - 24s 10ms/step - loss: 0.3635 - accuracy: 0.8764 - val_loss: 0.3014 - val_accuracy: 0.9124\n",
            "Epoch 3/80\n",
            "2402/2402 [==============================] - 24s 10ms/step - loss: 0.2606 - accuracy: 0.9309 - val_loss: 0.2302 - val_accuracy: 0.9439\n",
            "Epoch 4/80\n",
            "2402/2402 [==============================] - 24s 10ms/step - loss: 0.2088 - accuracy: 0.9501 - val_loss: 0.1938 - val_accuracy: 0.9545\n",
            "Epoch 5/80\n",
            "2402/2402 [==============================] - 25s 10ms/step - loss: 0.1819 - accuracy: 0.9575 - val_loss: 0.1743 - val_accuracy: 0.9585\n",
            "Epoch 6/80\n",
            "2402/2402 [==============================] - 25s 11ms/step - loss: 0.1665 - accuracy: 0.9612 - val_loss: 0.1626 - val_accuracy: 0.9618\n",
            "Epoch 7/80\n",
            "2402/2402 [==============================] - 24s 10ms/step - loss: 0.1569 - accuracy: 0.9633 - val_loss: 0.1552 - val_accuracy: 0.9632\n",
            "Epoch 8/80\n",
            "2402/2402 [==============================] - 24s 10ms/step - loss: 0.1504 - accuracy: 0.9648 - val_loss: 0.1498 - val_accuracy: 0.9647\n",
            "Epoch 9/80\n",
            "2402/2402 [==============================] - 24s 10ms/step - loss: 0.1459 - accuracy: 0.9658 - val_loss: 0.1459 - val_accuracy: 0.9657\n",
            "Epoch 10/80\n",
            "2402/2402 [==============================] - 24s 10ms/step - loss: 0.1426 - accuracy: 0.9665 - val_loss: 0.1432 - val_accuracy: 0.9666\n",
            "Epoch 11/80\n",
            "2402/2402 [==============================] - 24s 10ms/step - loss: 0.1401 - accuracy: 0.9673 - val_loss: 0.1416 - val_accuracy: 0.9656\n",
            "Epoch 12/80\n",
            "2402/2402 [==============================] - 25s 10ms/step - loss: 0.1381 - accuracy: 0.9677 - val_loss: 0.1395 - val_accuracy: 0.9669\n",
            "Epoch 13/80\n",
            "2402/2402 [==============================] - 25s 10ms/step - loss: 0.1365 - accuracy: 0.9682 - val_loss: 0.1404 - val_accuracy: 0.9642\n",
            "Epoch 14/80\n",
            "2402/2402 [==============================] - 25s 10ms/step - loss: 0.1352 - accuracy: 0.9684 - val_loss: 0.1372 - val_accuracy: 0.9684\n",
            "Epoch 15/80\n",
            "2402/2402 [==============================] - 25s 10ms/step - loss: 0.1342 - accuracy: 0.9687 - val_loss: 0.1359 - val_accuracy: 0.9687\n",
            "Epoch 16/80\n",
            "2402/2402 [==============================] - 25s 10ms/step - loss: 0.1334 - accuracy: 0.9690 - val_loss: 0.1355 - val_accuracy: 0.9680\n",
            "Epoch 17/80\n",
            "2402/2402 [==============================] - 25s 10ms/step - loss: 0.1327 - accuracy: 0.9694 - val_loss: 0.1360 - val_accuracy: 0.9674\n",
            "Epoch 18/80\n",
            "2402/2402 [==============================] - 25s 10ms/step - loss: 0.1320 - accuracy: 0.9697 - val_loss: 0.1343 - val_accuracy: 0.9687\n",
            "Epoch 19/80\n",
            "2402/2402 [==============================] - 26s 11ms/step - loss: 0.1315 - accuracy: 0.9696 - val_loss: 0.1340 - val_accuracy: 0.9684\n",
            "Epoch 20/80\n",
            "2402/2402 [==============================] - 25s 10ms/step - loss: 0.1310 - accuracy: 0.9699 - val_loss: 0.1331 - val_accuracy: 0.9696\n",
            "Epoch 21/80\n",
            "2402/2402 [==============================] - 25s 10ms/step - loss: 0.1307 - accuracy: 0.9699 - val_loss: 0.1342 - val_accuracy: 0.9681\n",
            "Epoch 22/80\n",
            "2402/2402 [==============================] - 25s 10ms/step - loss: 0.1303 - accuracy: 0.9700 - val_loss: 0.1327 - val_accuracy: 0.9692\n",
            "Epoch 23/80\n",
            "2402/2402 [==============================] - 25s 10ms/step - loss: 0.1300 - accuracy: 0.9703 - val_loss: 0.1331 - val_accuracy: 0.9688\n",
            "Epoch 24/80\n",
            "2402/2402 [==============================] - 25s 10ms/step - loss: 0.1297 - accuracy: 0.9703 - val_loss: 0.1324 - val_accuracy: 0.9698\n",
            "Epoch 25/80\n",
            "2402/2402 [==============================] - 25s 10ms/step - loss: 0.1296 - accuracy: 0.9704 - val_loss: 0.1318 - val_accuracy: 0.9712\n",
            "Epoch 26/80\n",
            "2402/2402 [==============================] - 25s 10ms/step - loss: 0.1293 - accuracy: 0.9706 - val_loss: 0.1317 - val_accuracy: 0.9708\n",
            "Epoch 27/80\n",
            "2402/2402 [==============================] - 25s 10ms/step - loss: 0.1291 - accuracy: 0.9706 - val_loss: 0.1313 - val_accuracy: 0.9710\n",
            "Epoch 28/80\n",
            "2402/2402 [==============================] - 25s 10ms/step - loss: 0.1289 - accuracy: 0.9707 - val_loss: 0.1312 - val_accuracy: 0.9704\n",
            "Epoch 29/80\n",
            "2402/2402 [==============================] - 25s 10ms/step - loss: 0.1287 - accuracy: 0.9708 - val_loss: 0.1311 - val_accuracy: 0.9710\n",
            "Epoch 30/80\n",
            "2402/2402 [==============================] - 25s 10ms/step - loss: 0.1286 - accuracy: 0.9708 - val_loss: 0.1313 - val_accuracy: 0.9702\n",
            "Epoch 31/80\n",
            "2402/2402 [==============================] - 25s 10ms/step - loss: 0.1284 - accuracy: 0.9710 - val_loss: 0.1308 - val_accuracy: 0.9708\n",
            "Epoch 32/80\n",
            "2402/2402 [==============================] - 26s 11ms/step - loss: 0.1283 - accuracy: 0.9710 - val_loss: 0.1308 - val_accuracy: 0.9704\n",
            "Epoch 33/80\n",
            "2402/2402 [==============================] - 25s 10ms/step - loss: 0.1281 - accuracy: 0.9711 - val_loss: 0.1310 - val_accuracy: 0.9693\n",
            "Epoch 34/80\n",
            "2402/2402 [==============================] - 25s 10ms/step - loss: 0.1281 - accuracy: 0.9711 - val_loss: 0.1304 - val_accuracy: 0.9706\n",
            "Epoch 35/80\n",
            "2402/2402 [==============================] - 25s 10ms/step - loss: 0.1280 - accuracy: 0.9712 - val_loss: 0.1304 - val_accuracy: 0.9706\n",
            "Epoch 36/80\n",
            "2402/2402 [==============================] - 25s 11ms/step - loss: 0.1279 - accuracy: 0.9713 - val_loss: 0.1303 - val_accuracy: 0.9709\n",
            "Epoch 37/80\n",
            "2402/2402 [==============================] - 25s 10ms/step - loss: 0.1278 - accuracy: 0.9711 - val_loss: 0.1302 - val_accuracy: 0.9707\n",
            "Epoch 38/80\n",
            "2402/2402 [==============================] - 25s 10ms/step - loss: 0.1277 - accuracy: 0.9712 - val_loss: 0.1331 - val_accuracy: 0.9657\n",
            "Epoch 39/80\n",
            "2402/2402 [==============================] - 25s 10ms/step - loss: 0.1277 - accuracy: 0.9712 - val_loss: 0.1316 - val_accuracy: 0.9681\n",
            "Epoch 40/80\n",
            "2402/2402 [==============================] - 25s 10ms/step - loss: 0.1275 - accuracy: 0.9714 - val_loss: 0.1300 - val_accuracy: 0.9713\n",
            "Epoch 41/80\n",
            "2402/2402 [==============================] - 25s 10ms/step - loss: 0.1274 - accuracy: 0.9713 - val_loss: 0.1299 - val_accuracy: 0.9705\n",
            "Epoch 42/80\n",
            "2402/2402 [==============================] - 25s 10ms/step - loss: 0.1274 - accuracy: 0.9713 - val_loss: 0.1301 - val_accuracy: 0.9710\n",
            "Epoch 43/80\n",
            "2402/2402 [==============================] - 25s 10ms/step - loss: 0.1273 - accuracy: 0.9715 - val_loss: 0.1300 - val_accuracy: 0.9696\n",
            "Epoch 44/80\n",
            "2402/2402 [==============================] - 25s 11ms/step - loss: 0.1273 - accuracy: 0.9715 - val_loss: 0.1302 - val_accuracy: 0.9705\n",
            "Epoch 45/80\n",
            "2402/2402 [==============================] - 27s 11ms/step - loss: 0.1272 - accuracy: 0.9714 - val_loss: 0.1296 - val_accuracy: 0.9712\n",
            "Epoch 46/80\n",
            "2402/2402 [==============================] - 25s 10ms/step - loss: 0.1270 - accuracy: 0.9717 - val_loss: 0.1300 - val_accuracy: 0.9713\n",
            "Epoch 47/80\n",
            "2402/2402 [==============================] - 25s 10ms/step - loss: 0.1271 - accuracy: 0.9717 - val_loss: 0.1296 - val_accuracy: 0.9712\n",
            "Epoch 48/80\n",
            "2402/2402 [==============================] - 25s 11ms/step - loss: 0.1270 - accuracy: 0.9717 - val_loss: 0.1309 - val_accuracy: 0.9699\n",
            "Epoch 49/80\n",
            "2402/2402 [==============================] - 26s 11ms/step - loss: 0.1270 - accuracy: 0.9715 - val_loss: 0.1299 - val_accuracy: 0.9710\n",
            "Epoch 50/80\n",
            "2402/2402 [==============================] - 25s 10ms/step - loss: 0.1269 - accuracy: 0.9716 - val_loss: 0.1294 - val_accuracy: 0.9709\n",
            "Epoch 51/80\n",
            "2402/2402 [==============================] - 25s 10ms/step - loss: 0.1269 - accuracy: 0.9716 - val_loss: 0.1294 - val_accuracy: 0.9715\n",
            "Epoch 52/80\n",
            "2402/2402 [==============================] - 25s 10ms/step - loss: 0.1269 - accuracy: 0.9718 - val_loss: 0.1296 - val_accuracy: 0.9708\n",
            "Epoch 53/80\n",
            "2402/2402 [==============================] - 25s 10ms/step - loss: 0.1268 - accuracy: 0.9714 - val_loss: 0.1293 - val_accuracy: 0.9717\n",
            "Epoch 54/80\n",
            "2402/2402 [==============================] - 25s 10ms/step - loss: 0.1268 - accuracy: 0.9716 - val_loss: 0.1292 - val_accuracy: 0.9717\n",
            "Epoch 55/80\n",
            "2402/2402 [==============================] - 25s 10ms/step - loss: 0.1267 - accuracy: 0.9717 - val_loss: 0.1296 - val_accuracy: 0.9709\n",
            "Epoch 56/80\n",
            "2402/2402 [==============================] - 25s 10ms/step - loss: 0.1267 - accuracy: 0.9715 - val_loss: 0.1291 - val_accuracy: 0.9724\n",
            "Epoch 57/80\n",
            "2402/2402 [==============================] - 25s 11ms/step - loss: 0.1265 - accuracy: 0.9718 - val_loss: 0.1297 - val_accuracy: 0.9704\n",
            "Epoch 58/80\n",
            "2402/2402 [==============================] - 25s 11ms/step - loss: 0.1266 - accuracy: 0.9718 - val_loss: 0.1291 - val_accuracy: 0.9719\n",
            "Epoch 59/80\n",
            "2402/2402 [==============================] - 25s 10ms/step - loss: 0.1265 - accuracy: 0.9717 - val_loss: 0.1291 - val_accuracy: 0.9718\n",
            "Epoch 60/80\n",
            "2402/2402 [==============================] - 25s 10ms/step - loss: 0.1265 - accuracy: 0.9718 - val_loss: 0.1305 - val_accuracy: 0.9699\n",
            "Epoch 61/80\n",
            "2402/2402 [==============================] - 26s 11ms/step - loss: 0.1265 - accuracy: 0.9718 - val_loss: 0.1303 - val_accuracy: 0.9696\n",
            "Epoch 62/80\n",
            "2402/2402 [==============================] - 25s 10ms/step - loss: 0.1264 - accuracy: 0.9719 - val_loss: 0.1291 - val_accuracy: 0.9715\n",
            "Epoch 63/80\n",
            "2402/2402 [==============================] - 25s 10ms/step - loss: 0.1264 - accuracy: 0.9717 - val_loss: 0.1293 - val_accuracy: 0.9717\n",
            "Epoch 64/80\n",
            "2402/2402 [==============================] - 25s 10ms/step - loss: 0.1264 - accuracy: 0.9720 - val_loss: 0.1293 - val_accuracy: 0.9704\n",
            "Epoch 65/80\n",
            "2402/2402 [==============================] - 25s 10ms/step - loss: 0.1263 - accuracy: 0.9719 - val_loss: 0.1289 - val_accuracy: 0.9713\n",
            "Epoch 66/80\n",
            "2402/2402 [==============================] - 25s 10ms/step - loss: 0.1262 - accuracy: 0.9720 - val_loss: 0.1313 - val_accuracy: 0.9661\n",
            "Epoch 67/80\n",
            "2402/2402 [==============================] - 25s 10ms/step - loss: 0.1262 - accuracy: 0.9718 - val_loss: 0.1294 - val_accuracy: 0.9707\n",
            "Epoch 68/80\n",
            "2402/2402 [==============================] - 25s 10ms/step - loss: 0.1262 - accuracy: 0.9717 - val_loss: 0.1289 - val_accuracy: 0.9705\n",
            "Epoch 69/80\n",
            "2402/2402 [==============================] - 25s 10ms/step - loss: 0.1262 - accuracy: 0.9719 - val_loss: 0.1297 - val_accuracy: 0.9701\n",
            "Epoch 70/80\n",
            "2402/2402 [==============================] - 27s 11ms/step - loss: 0.1261 - accuracy: 0.9717 - val_loss: 0.1288 - val_accuracy: 0.9718\n",
            "Epoch 71/80\n",
            "2402/2402 [==============================] - 25s 11ms/step - loss: 0.1261 - accuracy: 0.9719 - val_loss: 0.1287 - val_accuracy: 0.9720\n",
            "Epoch 72/80\n",
            "2402/2402 [==============================] - 25s 10ms/step - loss: 0.1261 - accuracy: 0.9719 - val_loss: 0.1287 - val_accuracy: 0.9717\n",
            "Epoch 73/80\n",
            "2402/2402 [==============================] - 26s 11ms/step - loss: 0.1260 - accuracy: 0.9720 - val_loss: 0.1288 - val_accuracy: 0.9713\n",
            "Epoch 74/80\n",
            "2402/2402 [==============================] - 25s 11ms/step - loss: 0.1260 - accuracy: 0.9720 - val_loss: 0.1287 - val_accuracy: 0.9714\n",
            "Epoch 75/80\n",
            "2402/2402 [==============================] - 25s 11ms/step - loss: 0.1260 - accuracy: 0.9717 - val_loss: 0.1291 - val_accuracy: 0.9715\n",
            "Epoch 76/80\n",
            "2402/2402 [==============================] - 25s 11ms/step - loss: 0.1259 - accuracy: 0.9720 - val_loss: 0.1287 - val_accuracy: 0.9707\n",
            "Epoch 77/80\n",
            "2402/2402 [==============================] - 26s 11ms/step - loss: 0.1259 - accuracy: 0.9717 - val_loss: 0.1288 - val_accuracy: 0.9715\n",
            "Epoch 78/80\n",
            "2402/2402 [==============================] - 25s 10ms/step - loss: 0.1259 - accuracy: 0.9721 - val_loss: 0.1286 - val_accuracy: 0.9710\n",
            "Epoch 79/80\n",
            "2402/2402 [==============================] - 25s 11ms/step - loss: 0.1258 - accuracy: 0.9721 - val_loss: 0.1287 - val_accuracy: 0.9711\n",
            "Epoch 80/80\n",
            "2402/2402 [==============================] - 25s 11ms/step - loss: 0.1258 - accuracy: 0.9719 - val_loss: 0.1285 - val_accuracy: 0.9715\n",
            "494/494 [==============================] - 1s 2ms/step - loss: 0.1256 - accuracy: 0.9729\n",
            "Model: \"sequential_25\"\n",
            "_________________________________________________________________\n",
            "Layer (type)                 Output Shape              Param #   \n",
            "=================================================================\n",
            "conv1d_27 (Conv1D)           (None, 31, 128)           12928     \n",
            "_________________________________________________________________\n",
            "flatten_25 (Flatten)         (None, 3968)              0         \n",
            "_________________________________________________________________\n",
            "dense_25 (Dense)             (None, 2)                 7938      \n",
            "=================================================================\n",
            "Total params: 20,866\n",
            "Trainable params: 20,866\n",
            "Non-trainable params: 0\n",
            "_________________________________________________________________\n"
          ],
          "name": "stdout"
        }
      ]
    },
    {
      "cell_type": "code",
      "metadata": {
        "colab": {
          "base_uri": "https://localhost:8080/",
          "height": 585
        },
        "id": "8I3AlUPKffLE",
        "outputId": "f2a3e996-b3e7-44f0-da48-7c23e4e26429"
      },
      "source": [
        "plt.plot(hist.epoch, hist.history['accuracy'], 'g')\n",
        "plt.title(\"Accuracy\")\n",
        "plt.xlabel(\"Epoch\")\n",
        "plt.ylabel(\"1 - MAE\")\n",
        "plt.show()\n",
        "\n",
        "plt.plot(hist.epoch, hist.history['loss'], 'r', label=\"Training\")\n",
        "plt.plot(hist.epoch, hist.history['val_loss'], 'b', label=\"Validation\")\n",
        "plt.title(\"Loss (Softmax method with only sequences)\")\n",
        "plt.xlabel(\"Epoch\")\n",
        "plt.ylabel(\"Binary Crossentropy Loss\")\n",
        "plt.legend()\n",
        "plt.show()"
      ],
      "execution_count": 93,
      "outputs": [
        {
          "output_type": "display_data",
          "data": {
            "image/png": "[encoded data removed]",
            "text/plain": [
              "<Figure size 432x288 with 1 Axes>"
            ]
          },
          "metadata": {
            "tags": [],
            "needs_background": "light"
          }
        },
        {
          "output_type": "display_data",
          "data": {
            "image/png": "[encoded data removed]",
            "text/plain": [
              "<Figure size 432x288 with 1 Axes>"
            ]
          },
          "metadata": {
            "tags": [],
            "needs_background": "light"
          }
        }
      ]
    },
    {
      "cell_type": "code",
      "metadata": {
        "colab": {
          "base_uri": "https://localhost:8080/",
          "height": 814
        },
        "id": "sRLQoOuvdfTX",
        "outputId": "1822becf-dd6c-45c1-c14c-d05943bcd244"
      },
      "source": [
        "def my_softmax(row):\n",
        "  if min(row) != 0:\n",
        "    row = row - min(row)\n",
        "  return row / sum(row)\n",
        "\n",
        "#have a look at the filter\n",
        "convlayer = model.layers[0]\n",
        "weights = convlayer.get_weights()[0].squeeze()\n",
        "print('Convolution parameter shape: {}'.format(weights.shape))\n",
        "# weights = np.apply_along_axis(my_softmax, 1, weights)\n",
        "weights = np.mean(np.transpose(weights), 0)\n",
        "print(weights)\n",
        "weights = np.transpose(weights)\n",
        "weights = np.apply_along_axis(my_softmax, 1, weights)\n",
        "\n",
        "weights = weights * 100\n",
        "weights = weights.astype(int)\n",
        "\n",
        "fig=plt.figure(figsize=(13, 3))\n",
        "heatmap(np.transpose(weights)[:, 5:-5],  annot=True, fmt=\"d\", cmap=\"hot\")\n",
        "plt.title(\"Weights of neural net\")\n",
        "plt.show()\n",
        "\n",
        "\n",
        "fig=plt.figure(figsize=(13, 3))\n",
        "heatmap(np.transpose((actualPWM * 100).astype(int)), annot=True, fmt=\"d\", cmap=\"hot\")\n",
        "plt.title(\"Actual PWM\")\n",
        "plt.show()"
      ],
      "execution_count": 89,
      "outputs": [
        {
          "output_type": "stream",
          "text": [
            "Convolution parameter shape: (25, 4, 128)\n",
            "[[0.01267088 0.01491073 0.01559371 0.01394222 0.01713988 0.01972724\n",
            "  0.0174704  0.0240351  0.02560086 0.01454405 0.01716694 0.02457198\n",
            "  0.02269874 0.02078402 0.01975087 0.0184167  0.01691052 0.01908008\n",
            "  0.01478849 0.02534118 0.01952842 0.01682503 0.01639056 0.01384594\n",
            "  0.01321986]\n",
            " [0.00937741 0.0134004  0.0106211  0.01424202 0.01374446 0.00625644\n",
            "  0.01428937 0.01277363 0.00888231 0.01829926 0.01424713 0.01007671\n",
            "  0.02137502 0.01887424 0.02075609 0.02020382 0.02234823 0.0238426\n",
            "  0.01757086 0.01000109 0.00808193 0.01329057 0.00308588 0.00729047\n",
            "  0.01087871]\n",
            " [0.0189071  0.01324526 0.02164342 0.01506415 0.01531578 0.02537526\n",
            "  0.01852373 0.01778203 0.01778356 0.01589418 0.02998178 0.02079567\n",
            "  0.02556812 0.0172368  0.0150668  0.01986872 0.0192866  0.01360057\n",
            "  0.01589145 0.01064766 0.02165505 0.02255971 0.01663064 0.02058967\n",
            "  0.01616113]\n",
            " [0.01240399 0.01363512 0.00936377 0.01135587 0.01672973 0.01005828\n",
            "  0.0191312  0.01193652 0.01670735 0.01885976 0.01430012 0.02294569\n",
            "  0.010861   0.01992052 0.0219131  0.01165262 0.0208284  0.0111571\n",
            "  0.01730982 0.01948597 0.01310327 0.01010307 0.0175503  0.008991\n",
            "  0.01246661]]\n"
          ],
          "name": "stdout"
        },
        {
          "output_type": "display_data",
          "data": {
            "image/png": "[encoded data removed]",
            "text/plain": [
              "<Figure size 936x216 with 2 Axes>"
            ]
          },
          "metadata": {
            "tags": [],
            "needs_background": "light"
          }
        },
        {
          "output_type": "display_data",
          "data": {
            "image/png": "[encoded data removed]",
            "text/plain": [
              "<Figure size 936x216 with 2 Axes>"
            ]
          },
          "metadata": {
            "tags": [],
            "needs_background": "light"
          }
        }
      ]
    },
    {
      "cell_type": "code",
      "metadata": {
        "colab": {
          "base_uri": "https://localhost:8080/",
          "height": 35
        },
        "id": "hU_TM7z-dl3d",
        "outputId": "0a5bdb53-5e53-454d-97b9-a1154eade29b"
      },
      "source": [
        "num2seq = ['A','C','G','T']\n",
        "''.join([num2seq[np.argmax(actualPWM[i,:])] for i in range(actualPWM.shape[0])])  "
      ],
      "execution_count": 43,
      "outputs": [
        {
          "output_type": "execute_result",
          "data": {
            "application/vnd.google.colaboratory.intrinsic+json": {
              "type": "string"
            },
            "text/plain": [
              "'GCGCCCCCTGGTGGC'"
            ]
          },
          "metadata": {
            "tags": []
          },
          "execution_count": 43
        }
      ]
    },
    {
      "cell_type": "code",
      "metadata": {
        "colab": {
          "base_uri": "https://localhost:8080/",
          "height": 35
        },
        "id": "VmCQxQ9sAnKa",
        "outputId": "7b6cbbd7-14f7-441d-b3c8-038c789d447d"
      },
      "source": [
        "# predict highest strength sequence\n",
        "num2seq = ['A','C','G','T']\n",
        "''.join([num2seq[np.argmax(weights[i,:])] for i in range(8, weights.shape[0] - 8)])  "
      ],
      "execution_count": 44,
      "outputs": [
        {
          "output_type": "execute_result",
          "data": {
            "application/vnd.google.colaboratory.intrinsic+json": {
              "type": "string"
            },
            "text/plain": [
              "'ACTGGCTGGCGCCCC'"
            ]
          },
          "metadata": {
            "tags": []
          },
          "execution_count": 44
        }
      ]
    },
    {
      "cell_type": "code",
      "metadata": {
        "colab": {
          "base_uri": "https://localhost:8080/",
          "height": 35
        },
        "id": "XlMnP7jpd9oX",
        "outputId": "fde34faf-de79-4e3d-c846-5a1310a296f3"
      },
      "source": [
        "# predict lowest strength sequence\n",
        "num2seq = ['A','C','G','T']\n",
        "''.join([num2seq[np.argmin(weights[i,:])] for i in range(weights.shape[0])])"
      ],
      "execution_count": null,
      "outputs": [
        {
          "output_type": "execute_result",
          "data": {
            "application/vnd.google.colaboratory.intrinsic+json": {
              "type": "string"
            },
            "text/plain": [
              "'ATATGAGATCCAGAA'"
            ]
          },
          "metadata": {
            "tags": []
          },
          "execution_count": 733
        }
      ]
    },
    {
      "cell_type": "code",
      "metadata": {
        "colab": {
          "base_uri": "https://localhost:8080/",
          "height": 585
        },
        "id": "8FZTYJf-One2",
        "outputId": "f2942d20-4043-461d-f5a2-5eb7be4df993"
      },
      "source": [
        "# Test the model\n",
        "pred = model.predict(X_test)\n",
        "\n",
        "y_actual = np.array([np.argmax(i) for i in y_test])\n",
        "y_pred = np.array([np.argmax(i) for i in pred])\n",
        "\n",
        "true_positives = 0\n",
        "false_positives = 0\n",
        "true_negatives = 0\n",
        "false_negatives = 0\n",
        "\n",
        "for i in range(y_actual.shape[0]):\n",
        "  if y_pred[i] == 1 and y_actual[i] == 1:\n",
        "    true_positives += 1\n",
        "  elif y_pred[i] == 0 and y_actual[i] == 1:\n",
        "    false_negatives += 1\n",
        "  elif y_pred[i] == 1 and y_actual[i] == 0:\n",
        "    false_positives += 1\n",
        "  elif y_pred[i] == 0 and y_actual[i] == 0:\n",
        "    true_negatives += 1\n",
        "\n",
        "confusion = [[true_negatives, false_positives], [false_negatives, true_positives]]\n",
        "confusion = np.array(confusion)\n",
        "confusion = - confusion\n",
        "np.fill_diagonal(confusion, - confusion.diagonal())\n",
        "heatmap(confusion, annot=True, fmt=\"d\", cmap=\"Purples\")\n",
        "plt.xlabel('Predicted')\n",
        "plt.ylabel('Actual')\n",
        "plt.title('Confusion Matrix (Softmax method with only sequences)')\n",
        "plt.show()\n",
        "\n",
        "\n",
        "total_positive = (true_positives + false_negatives)\n",
        "total_negative = (true_negatives + false_positives)\n",
        "\n",
        "true_positives = true_positives / total_positive\n",
        "false_positives = false_positives / total_positive\n",
        "true_negatives = true_negatives / total_negative\n",
        "false_negatives = false_negatives / total_negative\n",
        "\n",
        "confusion = [[true_negatives, false_positives], [false_negatives, true_positives]]\n",
        "confusion = np.array(confusion)\n",
        "confusion = - confusion\n",
        "np.fill_diagonal(confusion, - confusion.diagonal())\n",
        "heatmap(confusion, annot=True, fmt=\".4f\", cmap=\"Purples\")\n",
        "plt.xlabel('Predicted')\n",
        "plt.ylabel('Actual')\n",
        "plt.title('Confusion Matrix (Softmax method with only sequences)')\n",
        "plt.show()"
      ],
      "execution_count": 92,
      "outputs": [
        {
          "output_type": "display_data",
          "data": {
            "image/png": "[encoded data removed]",
            "text/plain": [
              "<Figure size 432x288 with 2 Axes>"
            ]
          },
          "metadata": {
            "tags": [],
            "needs_background": "light"
          }
        },
        {
          "output_type": "display_data",
          "data": {
            "image/png": "[encoded data removed]",
            "text/plain": [
              "<Figure size 432x288 with 2 Axes>"
            ]
          },
          "metadata": {
            "tags": [],
            "needs_background": "light"
          }
        }
      ]
    }
  ]
}